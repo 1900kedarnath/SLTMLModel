{
 "cells": [
  {
   "cell_type": "code",
   "execution_count": 3,
   "metadata": {},
   "outputs": [
    {
     "data": {
      "text/plain": [
       "True"
      ]
     },
     "execution_count": 3,
     "metadata": {},
     "output_type": "execute_result"
    }
   ],
   "source": [
    "import numpy as np\n",
    "import pandas as pd\n",
    "#import matplotlib.pyplot as plt\n",
    "import tensorflow as tf\n",
    "data = pd.read_csv(r'C:\\Users\\Utkarsh Srivastava\\Desktop\\python practice\\matches.csv')\n",
    "company = pd.read_csv(r'C:\\Users\\Utkarsh Srivastava\\Desktop\\python practice\\Fortune500.csv', encoding='latin-1')\n",
    "delivery = pd.read_csv(r'C:\\Users\\Utkarsh Srivastava\\Desktop\\python practice\\deliveries.csv')\n",
    "# data['toss_decision'].value_counts().plot(kind='pie')\n",
    "# data['win_by_runs'].plot(kind='hist') #for  Numerical variables\n",
    "tf.config.list_physical_devices('GPU')\n",
    "tf.test.is_built_with_cuda()\n",
    "#https://www.tensorflow.org/install/source_windows#gpu\n",
    "#print(tf.reduce_sum(tf.random.normal([1000, 1000])))"
   ]
  }
 ],
 "metadata": {
  "kernelspec": {
   "display_name": "Python 3",
   "language": "python",
   "name": "python3"
  },
  "language_info": {
   "codemirror_mode": {
    "name": "ipython",
    "version": 3
   },
   "file_extension": ".py",
   "mimetype": "text/x-python",
   "name": "python",
   "nbconvert_exporter": "python",
   "pygments_lexer": "ipython3",
   "version": "3.10.11"
  },
  "orig_nbformat": 4,
  "vscode": {
   "interpreter": {
    "hash": "1afac5fc6a59ac64e555c2c5a53be0114a5ddd7f2cf57928dcefec2be136f4d8"
   }
  }
 },
 "nbformat": 4,
 "nbformat_minor": 2
}
